{
  "cells": [
    {
      "cell_type": "markdown",
      "metadata": {
        "id": "view-in-github",
        "colab_type": "text"
      },
      "source": [
        "<a href=\"https://colab.research.google.com/github/ratiarsone/APR21-XRDEV-AN/blob/main/lakhclean_gpt2_generation.ipynb\" target=\"_parent\"><img src=\"https://colab.research.google.com/assets/colab-badge.svg\" alt=\"Open In Colab\"/></a>"
      ]
    },
    {
      "cell_type": "markdown",
      "metadata": {
        "id": "DWLOSBkp0A2U"
      },
      "source": [
        "# GPT-2 for music - By Dr. Tristan Behrens\n",
        "\n",
        "This notebook shows you how to generate music with GPT-2\n",
        "\n",
        "---\n",
        "\n",
        "## Find me online\n",
        "\n",
        "- https://www.linkedin.com/in/dr-tristan-behrens-734967a2/\n",
        "- https://twitter.com/DrTBehrens\n",
        "- https://github.com/AI-Guru\n",
        "- https://huggingface.co/TristanBehrens\n",
        "- https://huggingface.co/ai-guru\n",
        "\n",
        "\n",
        "---\n",
        "\n",
        "## Install depencencies.\n",
        "\n",
        "The following cell sets up fluidsynth and pyfluidsynth on colaboratory."
      ]
    },
    {
      "cell_type": "code",
      "source": [
        "if \"google.colab\" in str(get_ipython()):\n",
        "    print(\"Installing dependencies...\")\n",
        "    !apt-get update -qq && apt-get install -qq libfluidsynth2 build-essential libasound2-dev libjack-dev\n",
        "    !pip install -qU pyfluidsynth"
      ],
      "metadata": {
        "id": "k1a8sd2KZCz9",
        "outputId": "1645ed15-d497-44aa-a1dc-082e8fb03ef6",
        "colab": {
          "base_uri": "https://localhost:8080/"
        }
      },
      "execution_count": 1,
      "outputs": [
        {
          "output_type": "stream",
          "name": "stdout",
          "text": [
            "Installing dependencies...\n",
            "E: Package 'libfluidsynth2' has no installation candidate\n"
          ]
        }
      ]
    },
    {
      "cell_type": "code",
      "execution_count": null,
      "metadata": {
        "id": "6J_AnhV8D5p6"
      },
      "outputs": [],
      "source": [
        "!pip install transformers\n",
        "!pip install note_seq"
      ]
    },
    {
      "cell_type": "markdown",
      "metadata": {
        "id": "RzhHhFll0JVl"
      },
      "source": [
        "## Load the tokenizer and the model from 🤗 Hub."
      ]
    },
    {
      "cell_type": "code",
      "source": [
        "import os\n",
        "os.environ[\"PROTOCOL_BUFFERS_PYTHON_IMPLEMENTATION\"] = \"python\""
      ],
      "metadata": {
        "id": "zGupj_vuZ9f2"
      },
      "execution_count": null,
      "outputs": []
    },
    {
      "cell_type": "code",
      "execution_count": null,
      "metadata": {
        "id": "g3ih12FMD7bs"
      },
      "outputs": [],
      "source": [
        "from transformers import AutoTokenizer, AutoModelForCausalLM\n",
        "\n",
        "tokenizer = AutoTokenizer.from_pretrained(\"ai-guru/lakhclean_mmmtrack_4bars_d-2048\")\n",
        "model = AutoModelForCausalLM.from_pretrained(\"ai-guru/lakhclean_mmmtrack_4bars_d-2048\")"
      ]
    },
    {
      "cell_type": "markdown",
      "metadata": {
        "id": "YfHXFugA0WdI"
      },
      "source": [
        "## Convert the generated tokens to music that you can listen to.\n",
        "\n",
        "This uses note_seq, which is something like MIDI coming from Google Magenta. You could even use it to load and save MIDI files. Check their repo if you want to learn more.\n"
      ]
    },
    {
      "cell_type": "code",
      "execution_count": null,
      "metadata": {
        "id": "L3QMj8NyEBqs"
      },
      "outputs": [],
      "source": [
        "import note_seq\n",
        "\n",
        "NOTE_LENGTH_16TH_120BPM = 0.25 * 60 / 120\n",
        "BAR_LENGTH_120BPM = 4.0 * 60 / 120\n",
        "\n",
        "def token_sequence_to_note_sequence(token_sequence, use_program=True, use_drums=True, instrument_mapper=None, only_piano=False):\n",
        "\n",
        "    if isinstance(token_sequence, str):\n",
        "        token_sequence = token_sequence.split()\n",
        "\n",
        "    note_sequence = empty_note_sequence()\n",
        "\n",
        "    # Render all notes.\n",
        "    current_program = 1\n",
        "    current_is_drum = False\n",
        "    current_instrument = 0\n",
        "    track_count = 0\n",
        "    for token_index, token in enumerate(token_sequence):\n",
        "\n",
        "        if token == \"PIECE_START\":\n",
        "            pass\n",
        "        elif token == \"PIECE_END\":\n",
        "            print(\"The end.\")\n",
        "            break\n",
        "        elif token == \"TRACK_START\":\n",
        "            current_bar_index = 0\n",
        "            track_count += 1\n",
        "            pass\n",
        "        elif token == \"TRACK_END\":\n",
        "            pass\n",
        "        elif token == \"KEYS_START\":\n",
        "            pass\n",
        "        elif token == \"KEYS_END\":\n",
        "            pass\n",
        "        elif token.startswith(\"KEY=\"):\n",
        "            pass\n",
        "        elif token.startswith(\"INST\"):\n",
        "            instrument = token.split(\"=\")[-1]\n",
        "            if instrument != \"DRUMS\" and use_program:\n",
        "                if instrument_mapper is not None:\n",
        "                    if instrument in instrument_mapper:\n",
        "                        instrument = instrument_mapper[instrument]\n",
        "                current_program = int(instrument)\n",
        "                current_instrument = track_count\n",
        "                current_is_drum = False\n",
        "            if instrument == \"DRUMS\" and use_drums:\n",
        "                current_instrument = 0\n",
        "                current_program = 0\n",
        "                current_is_drum = True\n",
        "        elif token == \"BAR_START\":\n",
        "            current_time = current_bar_index * BAR_LENGTH_120BPM\n",
        "            current_notes = {}\n",
        "        elif token == \"BAR_END\":\n",
        "            current_bar_index += 1\n",
        "            pass\n",
        "        elif token.startswith(\"NOTE_ON\"):\n",
        "            pitch = int(token.split(\"=\")[-1])\n",
        "            note = note_sequence.notes.add()\n",
        "            note.start_time = current_time\n",
        "            note.end_time = current_time + 4 * NOTE_LENGTH_16TH_120BPM\n",
        "            note.pitch = pitch\n",
        "            note.instrument = current_instrument\n",
        "            note.program = current_program\n",
        "            note.velocity = 80\n",
        "            note.is_drum = current_is_drum\n",
        "            current_notes[pitch] = note\n",
        "        elif token.startswith(\"NOTE_OFF\"):\n",
        "            pitch = int(token.split(\"=\")[-1])\n",
        "            if pitch in current_notes:\n",
        "                note = current_notes[pitch]\n",
        "                note.end_time = current_time\n",
        "        elif token.startswith(\"TIME_DELTA\"):\n",
        "            delta = float(token.split(\"=\")[-1]) * NOTE_LENGTH_16TH_120BPM\n",
        "            current_time += delta\n",
        "        elif token.startswith(\"DENSITY=\"):\n",
        "            pass\n",
        "        elif token == \"[PAD]\":\n",
        "            pass\n",
        "        else:\n",
        "            #print(f\"Ignored token {token}.\")\n",
        "            pass\n",
        "\n",
        "    # Make the instruments right.\n",
        "    instruments_drums = []\n",
        "    for note in note_sequence.notes:\n",
        "        pair = [note.program, note.is_drum]\n",
        "        if pair not in instruments_drums:\n",
        "            instruments_drums += [pair]\n",
        "        note.instrument = instruments_drums.index(pair)\n",
        "\n",
        "    if only_piano:\n",
        "        for note in note_sequence.notes:\n",
        "            if not note.is_drum:\n",
        "                note.instrument = 0\n",
        "                note.program = 0\n",
        "\n",
        "    return note_sequence\n",
        "\n",
        "def empty_note_sequence(qpm=120.0, total_time=0.0):\n",
        "    note_sequence = note_seq.protobuf.music_pb2.NoteSequence()\n",
        "    note_sequence.tempos.add().qpm = qpm\n",
        "    note_sequence.ticks_per_quarter = note_seq.constants.STANDARD_PPQ\n",
        "    note_sequence.total_time = total_time\n",
        "    return note_sequence"
      ]
    },
    {
      "cell_type": "markdown",
      "source": [
        "## Generate music\n",
        "\n",
        "This will generate one track of music and render it."
      ],
      "metadata": {
        "id": "4kr2dECziaFA"
      }
    },
    {
      "cell_type": "code",
      "source": [
        "generated_sequence = \"PIECE_START\""
      ],
      "metadata": {
        "id": "cUg1DrlygzgT"
      },
      "execution_count": null,
      "outputs": []
    },
    {
      "cell_type": "markdown",
      "source": [
        "Note: Run the following cell multiple times to generate more tracks."
      ],
      "metadata": {
        "id": "SinUPIHyimr5"
      }
    },
    {
      "cell_type": "code",
      "execution_count": null,
      "metadata": {
        "id": "ZYpukydNESDF",
        "colab": {
          "base_uri": "https://localhost:8080/",
          "height": 300
        },
        "outputId": "ebe6694c-ae1e-4483-fb08-4f0f8aae8493"
      },
      "outputs": [
        {
          "output_type": "stream",
          "name": "stdout",
          "text": [
            "PIECE_START TRACK_START INST=61 DENSITY=5 BAR_START BAR_END BAR_START TIME_DELTA=8 NOTE_ON=63 NOTE_ON=51 TIME_DELTA=2 NOTE_OFF=63 NOTE_OFF=51 NOTE_ON=49 NOTE_ON=61 TIME_DELTA=2 NOTE_OFF=49 NOTE_OFF=61 NOTE_ON=47 NOTE_ON=59 TIME_DELTA=2 NOTE_OFF=47 NOTE_OFF=59 NOTE_ON=49 NOTE_ON=61 TIME_DELTA=2 NOTE_OFF=49 NOTE_OFF=61 BAR_END BAR_START BAR_END BAR_START TIME_DELTA=8 NOTE_ON=63 NOTE_ON=51 TIME_DELTA=2 NOTE_OFF=63 NOTE_OFF=51 NOTE_ON=61 NOTE_ON=49 TIME_DELTA=2 NOTE_OFF=61 NOTE_OFF=49 NOTE_ON=47 NOTE_ON=59 TIME_DELTA=2 NOTE_OFF=47 NOTE_OFF=59 NOTE_ON=49 NOTE_ON=61 TIME_DELTA=2 NOTE_OFF=49 NOTE_OFF=61 BAR_END TRACK_END TRACK_START INST=33 DENSITY=1 BAR_START BAR_END BAR_START NOTE_ON=23 NOTE_ON=35 TIME_DELTA=15 NOTE_OFF=23 NOTE_OFF=35 BAR_END BAR_START NOTE_ON=30 NOTE_ON=42 TIME_DELTA=15 NOTE_OFF=30 NOTE_OFF=42 BAR_END BAR_START NOTE_ON=30 NOTE_ON=42 TIME_DELTA=15 NOTE_OFF=30 NOTE_OFF=42 BAR_END TRACK_END TRACK_START INST=DRUMS DENSITY=6 BAR_START NOTE_ON=35 NOTE_ON=42 TIME_DELTA=1 NOTE_OFF=35 NOTE_OFF=42 TIME_DELTA=1 NOTE_ON=35 NOTE_ON=42 TIME_DELTA=1 NOTE_OFF=35 NOTE_OFF=42 TIME_DELTA=1 NOTE_ON=40 NOTE_ON=42 TIME_DELTA=1 NOTE_OFF=40 NOTE_OFF=42 TIME_DELTA=1 NOTE_ON=42 TIME_DELTA=1 NOTE_OFF=42 TIME_DELTA=1 NOTE_ON=35 NOTE_ON=42 TIME_DELTA=1 NOTE_OFF=35 NOTE_OFF=42 TIME_DELTA=1 NOTE_ON=35 NOTE_ON=42 TIME_DELTA=1 NOTE_OFF=35 NOTE_OFF=42 TIME_DELTA=1 NOTE_ON=40 NOTE_ON=42 TIME_DELTA=1 NOTE_OFF=40 NOTE_OFF=42 TIME_DELTA=1 NOTE_ON=42 TIME_DELTA=1 NOTE_OFF=42 BAR_END BAR_START NOTE_ON=35 NOTE_ON=42 NOTE_ON=49 TIME_DELTA=1 NOTE_OFF=35 NOTE_OFF=42 TIME_DELTA=1 NOTE_ON=42 TIME_DELTA=1 NOTE_OFF=42 TIME_DELTA=1 NOTE_OFF=49 NOTE_ON=40 NOTE_ON=42 TIME_DELTA=1 NOTE_OFF=40 NOTE_OFF=42 TIME_DELTA=1 NOTE_ON=42 TIME_DELTA=1 NOTE_OFF=42 TIME_DELTA=1 NOTE_ON=35 NOTE_ON=42 TIME_DELTA=1 NOTE_OFF=35 NOTE_OFF=42 TIME_DELTA=1 NOTE_ON=35 NOTE_ON=42 TIME_DELTA=1 NOTE_OFF=35 NOTE_OFF=42 TIME_DELTA=1 NOTE_ON=40 NOTE_ON=42 TIME_DELTA=1 NOTE_OFF=40 NOTE_OFF=42 TIME_DELTA=1 NOTE_ON=46 TIME_DELTA=2 NOTE_OFF=46 BAR_END BAR_START NOTE_ON=35 NOTE_ON=42 TIME_DELTA=1 NOTE_OFF=35 NOTE_OFF=42 TIME_DELTA=1 NOTE_ON=35 NOTE_ON=42 TIME_DELTA=1 NOTE_OFF=35 NOTE_OFF=42 TIME_DELTA=1 NOTE_ON=40 NOTE_ON=42 TIME_DELTA=1 NOTE_OFF=40 NOTE_OFF=42 TIME_DELTA=1 NOTE_ON=42 TIME_DELTA=1 NOTE_OFF=42 TIME_DELTA=1 NOTE_ON=35 NOTE_ON=42 TIME_DELTA=1 NOTE_OFF=35 NOTE_OFF=42 TIME_DELTA=1 NOTE_ON=35 NOTE_ON=42 TIME_DELTA=1 NOTE_OFF=35 NOTE_OFF=42 TIME_DELTA=1 NOTE_ON=40 NOTE_ON=42 TIME_DELTA=1 NOTE_OFF=40 NOTE_OFF=42 TIME_DELTA=1 NOTE_ON=42 TIME_DELTA=1 NOTE_OFF=42 BAR_END BAR_START NOTE_ON=35 NOTE_ON=42 TIME_DELTA=1 NOTE_OFF=35 NOTE_OFF=42 TIME_DELTA=1 NOTE_ON=42 TIME_DELTA=1 NOTE_OFF=42 TIME_DELTA=1 NOTE_ON=40 NOTE_ON=42 TIME_DELTA=1 NOTE_OFF=40 NOTE_OFF=42 TIME_DELTA=1 NOTE_ON=42 TIME_DELTA=1 NOTE_OFF=42 TIME_DELTA=1 NOTE_ON=35 NOTE_ON=42 TIME_DELTA=1 NOTE_OFF=35 NOTE_OFF=42 TIME_DELTA=1 NOTE_ON=35 NOTE_ON=42 TIME_DELTA=1 NOTE_OFF=35 NOTE_OFF=42 TIME_DELTA=1 NOTE_ON=40 NOTE_ON=42 TIME_DELTA=1 NOTE_OFF=40 NOTE_OFF=42 TIME_DELTA=1 NOTE_ON=46 TIME_DELTA=2 NOTE_OFF=46 BAR_END TRACK_END\n"
          ]
        },
        {
          "output_type": "display_data",
          "data": {
            "application/javascript": [
              "(function(root) {\n",
              "  function now() {\n",
              "    return new Date();\n",
              "  }\n",
              "\n",
              "  const force = true;\n",
              "\n",
              "  if (typeof root._bokeh_onload_callbacks === \"undefined\" || force === true) {\n",
              "    root._bokeh_onload_callbacks = [];\n",
              "    root._bokeh_is_loading = undefined;\n",
              "  }\n",
              "\n",
              "const JS_MIME_TYPE = 'application/javascript';\n",
              "  const HTML_MIME_TYPE = 'text/html';\n",
              "  const EXEC_MIME_TYPE = 'application/vnd.bokehjs_exec.v0+json';\n",
              "  const CLASS_NAME = 'output_bokeh rendered_html';\n",
              "\n",
              "  /**\n",
              "   * Render data to the DOM node\n",
              "   */\n",
              "  function render(props, node) {\n",
              "    const script = document.createElement(\"script\");\n",
              "    node.appendChild(script);\n",
              "  }\n",
              "\n",
              "  /**\n",
              "   * Handle when an output is cleared or removed\n",
              "   */\n",
              "  function handleClearOutput(event, handle) {\n",
              "    const cell = handle.cell;\n",
              "\n",
              "    const id = cell.output_area._bokeh_element_id;\n",
              "    const server_id = cell.output_area._bokeh_server_id;\n",
              "    // Clean up Bokeh references\n",
              "    if (id != null && id in Bokeh.index) {\n",
              "      Bokeh.index[id].model.document.clear();\n",
              "      delete Bokeh.index[id];\n",
              "    }\n",
              "\n",
              "    if (server_id !== undefined) {\n",
              "      // Clean up Bokeh references\n",
              "      const cmd_clean = \"from bokeh.io.state import curstate; print(curstate().uuid_to_server['\" + server_id + \"'].get_sessions()[0].document.roots[0]._id)\";\n",
              "      cell.notebook.kernel.execute(cmd_clean, {\n",
              "        iopub: {\n",
              "          output: function(msg) {\n",
              "            const id = msg.content.text.trim();\n",
              "            if (id in Bokeh.index) {\n",
              "              Bokeh.index[id].model.document.clear();\n",
              "              delete Bokeh.index[id];\n",
              "            }\n",
              "          }\n",
              "        }\n",
              "      });\n",
              "      // Destroy server and session\n",
              "      const cmd_destroy = \"import bokeh.io.notebook as ion; ion.destroy_server('\" + server_id + \"')\";\n",
              "      cell.notebook.kernel.execute(cmd_destroy);\n",
              "    }\n",
              "  }\n",
              "\n",
              "  /**\n",
              "   * Handle when a new output is added\n",
              "   */\n",
              "  function handleAddOutput(event, handle) {\n",
              "    const output_area = handle.output_area;\n",
              "    const output = handle.output;\n",
              "\n",
              "    // limit handleAddOutput to display_data with EXEC_MIME_TYPE content only\n",
              "    if ((output.output_type != \"display_data\") || (!Object.prototype.hasOwnProperty.call(output.data, EXEC_MIME_TYPE))) {\n",
              "      return\n",
              "    }\n",
              "\n",
              "    const toinsert = output_area.element.find(\".\" + CLASS_NAME.split(' ')[0]);\n",
              "\n",
              "    if (output.metadata[EXEC_MIME_TYPE][\"id\"] !== undefined) {\n",
              "      toinsert[toinsert.length - 1].firstChild.textContent = output.data[JS_MIME_TYPE];\n",
              "      // store reference to embed id on output_area\n",
              "      output_area._bokeh_element_id = output.metadata[EXEC_MIME_TYPE][\"id\"];\n",
              "    }\n",
              "    if (output.metadata[EXEC_MIME_TYPE][\"server_id\"] !== undefined) {\n",
              "      const bk_div = document.createElement(\"div\");\n",
              "      bk_div.innerHTML = output.data[HTML_MIME_TYPE];\n",
              "      const script_attrs = bk_div.children[0].attributes;\n",
              "      for (let i = 0; i < script_attrs.length; i++) {\n",
              "        toinsert[toinsert.length - 1].firstChild.setAttribute(script_attrs[i].name, script_attrs[i].value);\n",
              "        toinsert[toinsert.length - 1].firstChild.textContent = bk_div.children[0].textContent\n",
              "      }\n",
              "      // store reference to server id on output_area\n",
              "      output_area._bokeh_server_id = output.metadata[EXEC_MIME_TYPE][\"server_id\"];\n",
              "    }\n",
              "  }\n",
              "\n",
              "  function register_renderer(events, OutputArea) {\n",
              "\n",
              "    function append_mime(data, metadata, element) {\n",
              "      // create a DOM node to render to\n",
              "      const toinsert = this.create_output_subarea(\n",
              "        metadata,\n",
              "        CLASS_NAME,\n",
              "        EXEC_MIME_TYPE\n",
              "      );\n",
              "      this.keyboard_manager.register_events(toinsert);\n",
              "      // Render to node\n",
              "      const props = {data: data, metadata: metadata[EXEC_MIME_TYPE]};\n",
              "      render(props, toinsert[toinsert.length - 1]);\n",
              "      element.append(toinsert);\n",
              "      return toinsert\n",
              "    }\n",
              "\n",
              "    /* Handle when an output is cleared or removed */\n",
              "    events.on('clear_output.CodeCell', handleClearOutput);\n",
              "    events.on('delete.Cell', handleClearOutput);\n",
              "\n",
              "    /* Handle when a new output is added */\n",
              "    events.on('output_added.OutputArea', handleAddOutput);\n",
              "\n",
              "    /**\n",
              "     * Register the mime type and append_mime function with output_area\n",
              "     */\n",
              "    OutputArea.prototype.register_mime_type(EXEC_MIME_TYPE, append_mime, {\n",
              "      /* Is output safe? */\n",
              "      safe: true,\n",
              "      /* Index of renderer in `output_area.display_order` */\n",
              "      index: 0\n",
              "    });\n",
              "  }\n",
              "\n",
              "  // register the mime type if in Jupyter Notebook environment and previously unregistered\n",
              "  if (root.Jupyter !== undefined) {\n",
              "    const events = require('base/js/events');\n",
              "    const OutputArea = require('notebook/js/outputarea').OutputArea;\n",
              "\n",
              "    if (OutputArea.prototype.mime_types().indexOf(EXEC_MIME_TYPE) == -1) {\n",
              "      register_renderer(events, OutputArea);\n",
              "    }\n",
              "  }\n",
              "  if (typeof (root._bokeh_timeout) === \"undefined\" || force === true) {\n",
              "    root._bokeh_timeout = Date.now() + 5000;\n",
              "    root._bokeh_failed_load = false;\n",
              "  }\n",
              "\n",
              "  const NB_LOAD_WARNING = {'data': {'text/html':\n",
              "     \"<div style='background-color: #fdd'>\\n\"+\n",
              "     \"<p>\\n\"+\n",
              "     \"BokehJS does not appear to have successfully loaded. If loading BokehJS from CDN, this \\n\"+\n",
              "     \"may be due to a slow or bad network connection. Possible fixes:\\n\"+\n",
              "     \"</p>\\n\"+\n",
              "     \"<ul>\\n\"+\n",
              "     \"<li>re-rerun `output_notebook()` to attempt to load from CDN again, or</li>\\n\"+\n",
              "     \"<li>use INLINE resources instead, as so:</li>\\n\"+\n",
              "     \"</ul>\\n\"+\n",
              "     \"<code>\\n\"+\n",
              "     \"from bokeh.resources import INLINE\\n\"+\n",
              "     \"output_notebook(resources=INLINE)\\n\"+\n",
              "     \"</code>\\n\"+\n",
              "     \"</div>\"}};\n",
              "\n",
              "  function display_loaded() {\n",
              "    const el = document.getElementById(null);\n",
              "    if (el != null) {\n",
              "      el.textContent = \"BokehJS is loading...\";\n",
              "    }\n",
              "    if (root.Bokeh !== undefined) {\n",
              "      if (el != null) {\n",
              "        el.textContent = \"BokehJS \" + root.Bokeh.version + \" successfully loaded.\";\n",
              "      }\n",
              "    } else if (Date.now() < root._bokeh_timeout) {\n",
              "      setTimeout(display_loaded, 100)\n",
              "    }\n",
              "  }\n",
              "\n",
              "  function run_callbacks() {\n",
              "    try {\n",
              "      root._bokeh_onload_callbacks.forEach(function(callback) {\n",
              "        if (callback != null)\n",
              "          callback();\n",
              "      });\n",
              "    } finally {\n",
              "      delete root._bokeh_onload_callbacks\n",
              "    }\n",
              "    console.debug(\"Bokeh: all callbacks have finished\");\n",
              "  }\n",
              "\n",
              "  function load_libs(css_urls, js_urls, callback) {\n",
              "    if (css_urls == null) css_urls = [];\n",
              "    if (js_urls == null) js_urls = [];\n",
              "\n",
              "    root._bokeh_onload_callbacks.push(callback);\n",
              "    if (root._bokeh_is_loading > 0) {\n",
              "      console.debug(\"Bokeh: BokehJS is being loaded, scheduling callback at\", now());\n",
              "      return null;\n",
              "    }\n",
              "    if (js_urls == null || js_urls.length === 0) {\n",
              "      run_callbacks();\n",
              "      return null;\n",
              "    }\n",
              "    console.debug(\"Bokeh: BokehJS not loaded, scheduling load and callback at\", now());\n",
              "    root._bokeh_is_loading = css_urls.length + js_urls.length;\n",
              "\n",
              "    function on_load() {\n",
              "      root._bokeh_is_loading--;\n",
              "      if (root._bokeh_is_loading === 0) {\n",
              "        console.debug(\"Bokeh: all BokehJS libraries/stylesheets loaded\");\n",
              "        run_callbacks()\n",
              "      }\n",
              "    }\n",
              "\n",
              "    function on_error(url) {\n",
              "      console.error(\"failed to load \" + url);\n",
              "    }\n",
              "\n",
              "    for (let i = 0; i < css_urls.length; i++) {\n",
              "      const url = css_urls[i];\n",
              "      const element = document.createElement(\"link\");\n",
              "      element.onload = on_load;\n",
              "      element.onerror = on_error.bind(null, url);\n",
              "      element.rel = \"stylesheet\";\n",
              "      element.type = \"text/css\";\n",
              "      element.href = url;\n",
              "      console.debug(\"Bokeh: injecting link tag for BokehJS stylesheet: \", url);\n",
              "      document.body.appendChild(element);\n",
              "    }\n",
              "\n",
              "    for (let i = 0; i < js_urls.length; i++) {\n",
              "      const url = js_urls[i];\n",
              "      const element = document.createElement('script');\n",
              "      element.onload = on_load;\n",
              "      element.onerror = on_error.bind(null, url);\n",
              "      element.async = false;\n",
              "      element.src = url;\n",
              "      console.debug(\"Bokeh: injecting script tag for BokehJS library: \", url);\n",
              "      document.head.appendChild(element);\n",
              "    }\n",
              "  };\n",
              "\n",
              "  function inject_raw_css(css) {\n",
              "    const element = document.createElement(\"style\");\n",
              "    element.appendChild(document.createTextNode(css));\n",
              "    document.body.appendChild(element);\n",
              "  }\n",
              "\n",
              "  const js_urls = [\"https://cdn.bokeh.org/bokeh/release/bokeh-2.4.3.min.js\", \"https://cdn.bokeh.org/bokeh/release/bokeh-gl-2.4.3.min.js\", \"https://cdn.bokeh.org/bokeh/release/bokeh-widgets-2.4.3.min.js\", \"https://cdn.bokeh.org/bokeh/release/bokeh-tables-2.4.3.min.js\", \"https://cdn.bokeh.org/bokeh/release/bokeh-mathjax-2.4.3.min.js\"];\n",
              "  const css_urls = [];\n",
              "\n",
              "  const inline_js = [    function(Bokeh) {\n",
              "      Bokeh.set_log_level(\"info\");\n",
              "    },\n",
              "function(Bokeh) {\n",
              "    }\n",
              "  ];\n",
              "\n",
              "  function run_inline_js() {\n",
              "    if (root.Bokeh !== undefined || force === true) {\n",
              "          for (let i = 0; i < inline_js.length; i++) {\n",
              "      inline_js[i].call(root, root.Bokeh);\n",
              "    }\n",
              "} else if (Date.now() < root._bokeh_timeout) {\n",
              "      setTimeout(run_inline_js, 100);\n",
              "    } else if (!root._bokeh_failed_load) {\n",
              "      console.log(\"Bokeh: BokehJS failed to load within specified timeout.\");\n",
              "      root._bokeh_failed_load = true;\n",
              "    } else if (force !== true) {\n",
              "      const cell = $(document.getElementById(null)).parents('.cell').data().cell;\n",
              "      cell.output_area.append_execute_result(NB_LOAD_WARNING)\n",
              "    }\n",
              "  }\n",
              "\n",
              "  if (root._bokeh_is_loading === 0) {\n",
              "    console.debug(\"Bokeh: BokehJS loaded, going straight to plotting\");\n",
              "    run_inline_js();\n",
              "  } else {\n",
              "    load_libs(css_urls, js_urls, function() {\n",
              "      console.debug(\"Bokeh: BokehJS plotting callback run at\", now());\n",
              "      run_inline_js();\n",
              "    });\n",
              "  }\n",
              "}(window));"
            ],
            "application/vnd.bokehjs_load.v0+json": "(function(root) {\n  function now() {\n    return new Date();\n  }\n\n  const force = true;\n\n  if (typeof root._bokeh_onload_callbacks === \"undefined\" || force === true) {\n    root._bokeh_onload_callbacks = [];\n    root._bokeh_is_loading = undefined;\n  }\n\n\n  if (typeof (root._bokeh_timeout) === \"undefined\" || force === true) {\n    root._bokeh_timeout = Date.now() + 5000;\n    root._bokeh_failed_load = false;\n  }\n\n  const NB_LOAD_WARNING = {'data': {'text/html':\n     \"<div style='background-color: #fdd'>\\n\"+\n     \"<p>\\n\"+\n     \"BokehJS does not appear to have successfully loaded. If loading BokehJS from CDN, this \\n\"+\n     \"may be due to a slow or bad network connection. Possible fixes:\\n\"+\n     \"</p>\\n\"+\n     \"<ul>\\n\"+\n     \"<li>re-rerun `output_notebook()` to attempt to load from CDN again, or</li>\\n\"+\n     \"<li>use INLINE resources instead, as so:</li>\\n\"+\n     \"</ul>\\n\"+\n     \"<code>\\n\"+\n     \"from bokeh.resources import INLINE\\n\"+\n     \"output_notebook(resources=INLINE)\\n\"+\n     \"</code>\\n\"+\n     \"</div>\"}};\n\n  function display_loaded() {\n    const el = document.getElementById(null);\n    if (el != null) {\n      el.textContent = \"BokehJS is loading...\";\n    }\n    if (root.Bokeh !== undefined) {\n      if (el != null) {\n        el.textContent = \"BokehJS \" + root.Bokeh.version + \" successfully loaded.\";\n      }\n    } else if (Date.now() < root._bokeh_timeout) {\n      setTimeout(display_loaded, 100)\n    }\n  }\n\n  function run_callbacks() {\n    try {\n      root._bokeh_onload_callbacks.forEach(function(callback) {\n        if (callback != null)\n          callback();\n      });\n    } finally {\n      delete root._bokeh_onload_callbacks\n    }\n    console.debug(\"Bokeh: all callbacks have finished\");\n  }\n\n  function load_libs(css_urls, js_urls, callback) {\n    if (css_urls == null) css_urls = [];\n    if (js_urls == null) js_urls = [];\n\n    root._bokeh_onload_callbacks.push(callback);\n    if (root._bokeh_is_loading > 0) {\n      console.debug(\"Bokeh: BokehJS is being loaded, scheduling callback at\", now());\n      return null;\n    }\n    if (js_urls == null || js_urls.length === 0) {\n      run_callbacks();\n      return null;\n    }\n    console.debug(\"Bokeh: BokehJS not loaded, scheduling load and callback at\", now());\n    root._bokeh_is_loading = css_urls.length + js_urls.length;\n\n    function on_load() {\n      root._bokeh_is_loading--;\n      if (root._bokeh_is_loading === 0) {\n        console.debug(\"Bokeh: all BokehJS libraries/stylesheets loaded\");\n        run_callbacks()\n      }\n    }\n\n    function on_error(url) {\n      console.error(\"failed to load \" + url);\n    }\n\n    for (let i = 0; i < css_urls.length; i++) {\n      const url = css_urls[i];\n      const element = document.createElement(\"link\");\n      element.onload = on_load;\n      element.onerror = on_error.bind(null, url);\n      element.rel = \"stylesheet\";\n      element.type = \"text/css\";\n      element.href = url;\n      console.debug(\"Bokeh: injecting link tag for BokehJS stylesheet: \", url);\n      document.body.appendChild(element);\n    }\n\n    for (let i = 0; i < js_urls.length; i++) {\n      const url = js_urls[i];\n      const element = document.createElement('script');\n      element.onload = on_load;\n      element.onerror = on_error.bind(null, url);\n      element.async = false;\n      element.src = url;\n      console.debug(\"Bokeh: injecting script tag for BokehJS library: \", url);\n      document.head.appendChild(element);\n    }\n  };\n\n  function inject_raw_css(css) {\n    const element = document.createElement(\"style\");\n    element.appendChild(document.createTextNode(css));\n    document.body.appendChild(element);\n  }\n\n  const js_urls = [\"https://cdn.bokeh.org/bokeh/release/bokeh-2.4.3.min.js\", \"https://cdn.bokeh.org/bokeh/release/bokeh-gl-2.4.3.min.js\", \"https://cdn.bokeh.org/bokeh/release/bokeh-widgets-2.4.3.min.js\", \"https://cdn.bokeh.org/bokeh/release/bokeh-tables-2.4.3.min.js\", \"https://cdn.bokeh.org/bokeh/release/bokeh-mathjax-2.4.3.min.js\"];\n  const css_urls = [];\n\n  const inline_js = [    function(Bokeh) {\n      Bokeh.set_log_level(\"info\");\n    },\nfunction(Bokeh) {\n    }\n  ];\n\n  function run_inline_js() {\n    if (root.Bokeh !== undefined || force === true) {\n          for (let i = 0; i < inline_js.length; i++) {\n      inline_js[i].call(root, root.Bokeh);\n    }\n} else if (Date.now() < root._bokeh_timeout) {\n      setTimeout(run_inline_js, 100);\n    } else if (!root._bokeh_failed_load) {\n      console.log(\"Bokeh: BokehJS failed to load within specified timeout.\");\n      root._bokeh_failed_load = true;\n    } else if (force !== true) {\n      const cell = $(document.getElementById(null)).parents('.cell').data().cell;\n      cell.output_area.append_execute_result(NB_LOAD_WARNING)\n    }\n  }\n\n  if (root._bokeh_is_loading === 0) {\n    console.debug(\"Bokeh: BokehJS loaded, going straight to plotting\");\n    run_inline_js();\n  } else {\n    load_libs(css_urls, js_urls, function() {\n      console.debug(\"Bokeh: BokehJS plotting callback run at\", now());\n      run_inline_js();\n    });\n  }\n}(window));"
          },
          "metadata": {}
        },
        {
          "output_type": "display_data",
          "data": {
            "text/html": [
              "\n",
              "  <div class=\"bk-root\" id=\"a3736fc9-725e-43e7-8a71-8f05803c46f1\" data-root-id=\"1879\"></div>\n"
            ]
          },
          "metadata": {}
        },
        {
          "output_type": "display_data",
          "data": {
            "application/javascript": [
              "(function(root) {\n",
              "  function embed_document(root) {\n",
              "  const docs_json = {\"aa3ec47a-2940-4986-87cc-78e8daa4c69d\":{\"defs\":[],\"roots\":{\"references\":[{\"attributes\":{\"below\":[{\"id\":\"1888\"}],\"center\":[{\"id\":\"1891\"},{\"id\":\"1895\"}],\"height\":200,\"left\":[{\"id\":\"1892\"}],\"renderers\":[{\"id\":\"1916\"},{\"id\":\"1923\"},{\"id\":\"1930\"}],\"title\":{\"id\":\"1932\"},\"toolbar\":{\"id\":\"1902\"},\"width\":500,\"x_range\":{\"id\":\"1880\"},\"x_scale\":{\"id\":\"1884\"},\"y_range\":{\"id\":\"1882\"},\"y_scale\":{\"id\":\"1886\"}},\"id\":\"1879\",\"subtype\":\"Figure\",\"type\":\"Plot\"},{\"attributes\":{\"axis_label\":\"time (sec)\",\"coordinates\":null,\"formatter\":{\"id\":\"1937\"},\"group\":null,\"major_label_policy\":{\"id\":\"1938\"},\"ticker\":{\"id\":\"1889\"}},\"id\":\"1888\",\"type\":\"LinearAxis\"},{\"attributes\":{\"axis_label\":\"pitch (MIDI)\",\"coordinates\":null,\"formatter\":{\"id\":\"1934\"},\"group\":null,\"major_label_policy\":{\"id\":\"1935\"},\"ticker\":{\"id\":\"1908\"}},\"id\":\"1892\",\"type\":\"LinearAxis\"},{\"attributes\":{\"coordinates\":null,\"group\":null},\"id\":\"1932\",\"type\":\"Title\"},{\"attributes\":{},\"id\":\"1880\",\"type\":\"DataRange1d\"},{\"attributes\":{},\"id\":\"1889\",\"type\":\"BasicTicker\"},{\"attributes\":{\"interval\":12},\"id\":\"1908\",\"type\":\"SingleIntervalTicker\"},{\"attributes\":{\"interval\":12},\"id\":\"1910\",\"type\":\"SingleIntervalTicker\"},{\"attributes\":{\"axis\":{\"id\":\"1888\"},\"coordinates\":null,\"group\":null,\"ticker\":null},\"id\":\"1891\",\"type\":\"Grid\"},{\"attributes\":{\"bottom\":{\"field\":\"bottom\"},\"fill_alpha\":{\"field\":\"fill_alpha\"},\"fill_color\":{\"value\":\"#3288bd\"},\"left\":{\"field\":\"start_time\"},\"right\":{\"field\":\"end_time\"},\"top\":{\"field\":\"top\"}},\"id\":\"1920\",\"type\":\"Quad\"},{\"attributes\":{\"axis\":{\"id\":\"1892\"},\"coordinates\":null,\"dimension\":1,\"group\":null,\"ticker\":{\"id\":\"1910\"}},\"id\":\"1895\",\"type\":\"Grid\"},{\"attributes\":{\"source\":{\"id\":\"1911\"}},\"id\":\"1917\",\"type\":\"CDSView\"},{\"attributes\":{},\"id\":\"1941\",\"type\":\"UnionRenderers\"},{\"attributes\":{},\"id\":\"1934\",\"type\":\"BasicTickFormatter\"},{\"attributes\":{},\"id\":\"1900\",\"type\":\"SaveTool\"},{\"attributes\":{},\"id\":\"1942\",\"type\":\"Selection\"},{\"attributes\":{},\"id\":\"1897\",\"type\":\"PanTool\"},{\"attributes\":{\"data\":{\"bottom\":{\"__ndarray__\":\"mpmZmZmZNkDNzMzMzExBQJqZmZmZmT1AzczMzMzMRECamZmZmZk9QM3MzMzMzERA\",\"dtype\":\"float64\",\"order\":\"little\",\"shape\":[6]},\"duration\":{\"__ndarray__\":\"AAAAAAAA/j8AAAAAAAD+PwAAAAAAAP4/AAAAAAAA/j8AAAAAAAD+PwAAAAAAAP4/\",\"dtype\":\"float64\",\"order\":\"little\",\"shape\":[6]},\"end_time\":{\"__ndarray__\":\"AAAAAAAAD0AAAAAAAAAPQAAAAAAAgBdAAAAAAACAF0AAAAAAAIAfQAAAAAAAgB9A\",\"dtype\":\"float64\",\"order\":\"little\",\"shape\":[6]},\"fill_alpha\":{\"__ndarray__\":\"AAAAAAAA8D8AAAAAAADwPwAAAAAAAPA/AAAAAAAA8D8AAAAAAADwPwAAAAAAAPA/\",\"dtype\":\"float64\",\"order\":\"little\",\"shape\":[6]},\"index\":[16,17,18,19,20,21],\"instrument\":[1,1,1,1,1,1],\"pitch\":[23,35,30,42,30,42],\"program\":[33,33,33,33,33,33],\"start_time\":{\"__ndarray__\":\"AAAAAAAAAEAAAAAAAAAAQAAAAAAAABBAAAAAAAAAEEAAAAAAAAAYQAAAAAAAABhA\",\"dtype\":\"float64\",\"order\":\"little\",\"shape\":[6]},\"top\":{\"__ndarray__\":\"ZmZmZmZmN0AzMzMzM7NBQGZmZmZmZj5AMzMzMzMzRUBmZmZmZmY+QDMzMzMzM0VA\",\"dtype\":\"float64\",\"order\":\"little\",\"shape\":[6]},\"velocity\":[80,80,80,80,80,80]},\"selected\":{\"id\":\"1942\"},\"selection_policy\":{\"id\":\"1941\"}},\"id\":\"1918\",\"type\":\"ColumnDataSource\"},{\"attributes\":{\"data\":{\"bottom\":{\"__ndarray__\":\"zczMzMxMQUDNzMzMzMxEQM3MzMzMTEFAzczMzMzMREDNzMzMzMxDQM3MzMzMzERAzczMzMzMREDNzMzMzExBQM3MzMzMzERAzczMzMxMQUDNzMzMzMxEQM3MzMzMzENAzczMzMzMREDNzMzMzMxEQM3MzMzMTEFAzczMzMzMREDNzMzMzExIQM3MzMzMzERAzczMzMzMQ0DNzMzMzMxEQM3MzMzMzERAzczMzMxMQUDNzMzMzMxEQM3MzMzMTEFAzczMzMzMREDNzMzMzMxDQM3MzMzMzERAzczMzMzMRkDNzMzMzExBQM3MzMzMzERAzczMzMxMQUDNzMzMzMxEQM3MzMzMzENAzczMzMzMREDNzMzMzMxEQM3MzMzMTEFAzczMzMzMREDNzMzMzExBQM3MzMzMzERAzczMzMzMQ0DNzMzMzMxEQM3MzMzMzERAzczMzMxMQUDNzMzMzMxEQM3MzMzMzERAzczMzMzMQ0DNzMzMzMxEQM3MzMzMzERAzczMzMxMQUDNzMzMzMxEQM3MzMzMTEFAzczMzMzMREDNzMzMzMxDQM3MzMzMzERAzczMzMzMRkA=\",\"dtype\":\"float64\",\"order\":\"little\",\"shape\":[55]},\"duration\":{\"__ndarray__\":\"AAAAAAAAwD8AAAAAAADAPwAAAAAAAMA/AAAAAAAAwD8AAAAAAADAPwAAAAAAAMA/AAAAAAAAwD8AAAAAAADAPwAAAAAAAMA/AAAAAAAAwD8AAAAAAADAPwAAAAAAAMA/AAAAAAAAwD8AAAAAAADAPwAAAAAAAMA/AAAAAAAAwD8AAAAAAADgPwAAAAAAAMA/AAAAAAAAwD8AAAAAAADAPwAAAAAAAMA/AAAAAAAAwD8AAAAAAADAPwAAAAAAAMA/AAAAAAAAwD8AAAAAAADAPwAAAAAAAMA/AAAAAAAA0D8AAAAAAADAPwAAAAAAAMA/AAAAAAAAwD8AAAAAAADAPwAAAAAAAMA/AAAAAAAAwD8AAAAAAADAPwAAAAAAAMA/AAAAAAAAwD8AAAAAAADAPwAAAAAAAMA/AAAAAAAAwD8AAAAAAADAPwAAAAAAAMA/AAAAAAAAwD8AAAAAAADAPwAAAAAAAMA/AAAAAAAAwD8AAAAAAADAPwAAAAAAAMA/AAAAAAAAwD8AAAAAAADAPwAAAAAAAMA/AAAAAAAAwD8AAAAAAADAPwAAAAAAAMA/AAAAAAAA0D8=\",\"dtype\":\"float64\",\"order\":\"little\",\"shape\":[55]},\"end_time\":{\"__ndarray__\":\"AAAAAAAAwD8AAAAAAADAPwAAAAAAANg/AAAAAAAA2D8AAAAAAADkPwAAAAAAAOQ/AAAAAAAA7D8AAAAAAADyPwAAAAAAAPI/AAAAAAAA9j8AAAAAAAD2PwAAAAAAAPo/AAAAAAAA+j8AAAAAAAD+PwAAAAAAAAFAAAAAAAAAAUAAAAAAAAAEQAAAAAAAAANAAAAAAAAABUAAAAAAAAAFQAAAAAAAAAdAAAAAAAAACUAAAAAAAAAJQAAAAAAAAAtAAAAAAAAAC0AAAAAAAAANQAAAAAAAAA1AAAAAAAAAEEAAAAAAAIAQQAAAAAAAgBBAAAAAAACAEUAAAAAAAIARQAAAAAAAgBJAAAAAAACAEkAAAAAAAIATQAAAAAAAgBRAAAAAAACAFEAAAAAAAIAVQAAAAAAAgBVAAAAAAACAFkAAAAAAAIAWQAAAAAAAgBdAAAAAAACAGEAAAAAAAIAYQAAAAAAAgBlAAAAAAACAGkAAAAAAAIAaQAAAAAAAgBtAAAAAAACAHEAAAAAAAIAcQAAAAAAAgB1AAAAAAACAHUAAAAAAAIAeQAAAAAAAgB5AAAAAAAAAIEA=\",\"dtype\":\"float64\",\"order\":\"little\",\"shape\":[55]},\"fill_alpha\":{\"__ndarray__\":\"AAAAAAAA8D8AAAAAAADwPwAAAAAAAPA/AAAAAAAA8D8AAAAAAADwPwAAAAAAAPA/AAAAAAAA8D8AAAAAAADwPwAAAAAAAPA/AAAAAAAA8D8AAAAAAADwPwAAAAAAAPA/AAAAAAAA8D8AAAAAAADwPwAAAAAAAPA/AAAAAAAA8D8AAAAAAADwPwAAAAAAAPA/AAAAAAAA8D8AAAAAAADwPwAAAAAAAPA/AAAAAAAA8D8AAAAAAADwPwAAAAAAAPA/AAAAAAAA8D8AAAAAAADwPwAAAAAAAPA/AAAAAAAA8D8AAAAAAADwPwAAAAAAAPA/AAAAAAAA8D8AAAAAAADwPwAAAAAAAPA/AAAAAAAA8D8AAAAAAADwPwAAAAAAAPA/AAAAAAAA8D8AAAAAAADwPwAAAAAAAPA/AAAAAAAA8D8AAAAAAADwPwAAAAAAAPA/AAAAAAAA8D8AAAAAAADwPwAAAAAAAPA/AAAAAAAA8D8AAAAAAADwPwAAAAAAAPA/AAAAAAAA8D8AAAAAAADwPwAAAAAAAPA/AAAAAAAA8D8AAAAAAADwPwAAAAAAAPA/AAAAAAAA8D8=\",\"dtype\":\"float64\",\"order\":\"little\",\"shape\":[55]},\"index\":[22,23,24,25,26,27,28,29,30,31,32,33,34,35,36,37,38,39,40,41,42,43,44,45,46,47,48,49,50,51,52,53,54,55,56,57,58,59,60,61,62,63,64,65,66,67,68,69,70,71,72,73,74,75,76],\"instrument\":[2,2,2,2,2,2,2,2,2,2,2,2,2,2,2,2,2,2,2,2,2,2,2,2,2,2,2,2,2,2,2,2,2,2,2,2,2,2,2,2,2,2,2,2,2,2,2,2,2,2,2,2,2,2,2],\"pitch\":[35,42,35,42,40,42,42,35,42,35,42,40,42,42,35,42,49,42,40,42,42,35,42,35,42,40,42,46,35,42,35,42,40,42,42,35,42,35,42,40,42,42,35,42,42,40,42,42,35,42,35,42,40,42,46],\"program\":[0,0,0,0,0,0,0,0,0,0,0,0,0,0,0,0,0,0,0,0,0,0,0,0,0,0,0,0,0,0,0,0,0,0,0,0,0,0,0,0,0,0,0,0,0,0,0,0,0,0,0,0,0,0,0],\"start_time\":{\"__ndarray__\":\"AAAAAAAAAAAAAAAAAAAAAAAAAAAAANA/AAAAAAAA0D8AAAAAAADgPwAAAAAAAOA/AAAAAAAA6D8AAAAAAADwPwAAAAAAAPA/AAAAAAAA9D8AAAAAAAD0PwAAAAAAAPg/AAAAAAAA+D8AAAAAAAD8PwAAAAAAAABAAAAAAAAAAEAAAAAAAAAAQAAAAAAAAAJAAAAAAAAABEAAAAAAAAAEQAAAAAAAAAZAAAAAAAAACEAAAAAAAAAIQAAAAAAAAApAAAAAAAAACkAAAAAAAAAMQAAAAAAAAAxAAAAAAAAADkAAAAAAAAAQQAAAAAAAABBAAAAAAAAAEUAAAAAAAAARQAAAAAAAABJAAAAAAAAAEkAAAAAAAAATQAAAAAAAABRAAAAAAAAAFEAAAAAAAAAVQAAAAAAAABVAAAAAAAAAFkAAAAAAAAAWQAAAAAAAABdAAAAAAAAAGEAAAAAAAAAYQAAAAAAAABlAAAAAAAAAGkAAAAAAAAAaQAAAAAAAABtAAAAAAAAAHEAAAAAAAAAcQAAAAAAAAB1AAAAAAAAAHUAAAAAAAAAeQAAAAAAAAB5AAAAAAAAAH0A=\",\"dtype\":\"float64\",\"order\":\"little\",\"shape\":[55]},\"top\":{\"__ndarray__\":\"MzMzMzOzQUAzMzMzMzNFQDMzMzMzs0FAMzMzMzMzRUAzMzMzMzNEQDMzMzMzM0VAMzMzMzMzRUAzMzMzM7NBQDMzMzMzM0VAMzMzMzOzQUAzMzMzMzNFQDMzMzMzM0RAMzMzMzMzRUAzMzMzMzNFQDMzMzMzs0FAMzMzMzMzRUAzMzMzM7NIQDMzMzMzM0VAMzMzMzMzREAzMzMzMzNFQDMzMzMzM0VAMzMzMzOzQUAzMzMzMzNFQDMzMzMzs0FAMzMzMzMzRUAzMzMzMzNEQDMzMzMzM0VAMzMzMzMzR0AzMzMzM7NBQDMzMzMzM0VAMzMzMzOzQUAzMzMzMzNFQDMzMzMzM0RAMzMzMzMzRUAzMzMzMzNFQDMzMzMzs0FAMzMzMzMzRUAzMzMzM7NBQDMzMzMzM0VAMzMzMzMzREAzMzMzMzNFQDMzMzMzM0VAMzMzMzOzQUAzMzMzMzNFQDMzMzMzM0VAMzMzMzMzREAzMzMzMzNFQDMzMzMzM0VAMzMzMzOzQUAzMzMzMzNFQDMzMzMzs0FAMzMzMzMzRUAzMzMzMzNEQDMzMzMzM0VAMzMzMzMzR0A=\",\"dtype\":\"float64\",\"order\":\"little\",\"shape\":[55]},\"velocity\":[80,80,80,80,80,80,80,80,80,80,80,80,80,80,80,80,80,80,80,80,80,80,80,80,80,80,80,80,80,80,80,80,80,80,80,80,80,80,80,80,80,80,80,80,80,80,80,80,80,80,80,80,80,80,80]},\"selected\":{\"id\":\"1944\"},\"selection_policy\":{\"id\":\"1943\"}},\"id\":\"1925\",\"type\":\"ColumnDataSource\"},{\"attributes\":{\"bottom\":{\"field\":\"bottom\"},\"fill_alpha\":{\"value\":0.2},\"fill_color\":{\"value\":\"#3288bd\"},\"hatch_alpha\":{\"value\":0.2},\"left\":{\"field\":\"start_time\"},\"line_alpha\":{\"value\":0.2},\"right\":{\"field\":\"end_time\"},\"top\":{\"field\":\"top\"}},\"id\":\"1922\",\"type\":\"Quad\"},{\"attributes\":{\"callback\":null,\"tooltips\":[[\"pitch\",\"@pitch\"],[\"program\",\"@program\"],[\"velo\",\"@velocity\"],[\"duration\",\"@duration\"],[\"start_time\",\"@start_time\"],[\"end_time\",\"@end_time\"],[\"velocity\",\"@velocity\"],[\"fill_alpha\",\"@fill_alpha\"]]},\"id\":\"1896\",\"type\":\"HoverTool\"},{\"attributes\":{\"overlay\":{\"id\":\"1901\"}},\"id\":\"1898\",\"type\":\"BoxZoomTool\"},{\"attributes\":{},\"id\":\"1935\",\"type\":\"AllLabels\"},{\"attributes\":{},\"id\":\"1882\",\"type\":\"DataRange1d\"},{\"attributes\":{},\"id\":\"1899\",\"type\":\"ResetTool\"},{\"attributes\":{},\"id\":\"1937\",\"type\":\"BasicTickFormatter\"},{\"attributes\":{\"source\":{\"id\":\"1918\"}},\"id\":\"1924\",\"type\":\"CDSView\"},{\"attributes\":{\"bottom_units\":\"screen\",\"coordinates\":null,\"fill_alpha\":0.5,\"fill_color\":\"lightgrey\",\"group\":null,\"left_units\":\"screen\",\"level\":\"overlay\",\"line_alpha\":1.0,\"line_color\":\"black\",\"line_dash\":[4,4],\"line_width\":2,\"right_units\":\"screen\",\"syncable\":false,\"top_units\":\"screen\"},\"id\":\"1901\",\"type\":\"BoxAnnotation\"},{\"attributes\":{},\"id\":\"1938\",\"type\":\"AllLabels\"},{\"attributes\":{\"bottom\":{\"field\":\"bottom\"},\"fill_alpha\":{\"value\":0.2},\"fill_color\":{\"value\":\"#f46d43\"},\"hatch_alpha\":{\"value\":0.2},\"left\":{\"field\":\"start_time\"},\"line_alpha\":{\"value\":0.2},\"right\":{\"field\":\"end_time\"},\"top\":{\"field\":\"top\"}},\"id\":\"1929\",\"type\":\"Quad\"},{\"attributes\":{\"bottom\":{\"field\":\"bottom\"},\"fill_alpha\":{\"field\":\"fill_alpha\"},\"fill_color\":{\"value\":\"#d53e4f\"},\"left\":{\"field\":\"start_time\"},\"right\":{\"field\":\"end_time\"},\"top\":{\"field\":\"top\"}},\"id\":\"1913\",\"type\":\"Quad\"},{\"attributes\":{\"bottom\":{\"field\":\"bottom\"},\"fill_alpha\":{\"value\":0.1},\"fill_color\":{\"value\":\"#3288bd\"},\"hatch_alpha\":{\"value\":0.1},\"left\":{\"field\":\"start_time\"},\"line_alpha\":{\"value\":0.1},\"right\":{\"field\":\"end_time\"},\"top\":{\"field\":\"top\"}},\"id\":\"1921\",\"type\":\"Quad\"},{\"attributes\":{\"source\":{\"id\":\"1925\"}},\"id\":\"1931\",\"type\":\"CDSView\"},{\"attributes\":{\"coordinates\":null,\"data_source\":{\"id\":\"1925\"},\"glyph\":{\"id\":\"1927\"},\"group\":null,\"hover_glyph\":null,\"muted_glyph\":{\"id\":\"1929\"},\"nonselection_glyph\":{\"id\":\"1928\"},\"view\":{\"id\":\"1931\"}},\"id\":\"1930\",\"type\":\"GlyphRenderer\"},{\"attributes\":{\"bottom\":{\"field\":\"bottom\"},\"fill_alpha\":{\"value\":0.1},\"fill_color\":{\"value\":\"#f46d43\"},\"hatch_alpha\":{\"value\":0.1},\"left\":{\"field\":\"start_time\"},\"line_alpha\":{\"value\":0.1},\"right\":{\"field\":\"end_time\"},\"top\":{\"field\":\"top\"}},\"id\":\"1928\",\"type\":\"Quad\"},{\"attributes\":{},\"id\":\"1939\",\"type\":\"UnionRenderers\"},{\"attributes\":{},\"id\":\"1943\",\"type\":\"UnionRenderers\"},{\"attributes\":{\"coordinates\":null,\"data_source\":{\"id\":\"1911\"},\"glyph\":{\"id\":\"1913\"},\"group\":null,\"hover_glyph\":null,\"muted_glyph\":{\"id\":\"1915\"},\"nonselection_glyph\":{\"id\":\"1914\"},\"view\":{\"id\":\"1917\"}},\"id\":\"1916\",\"type\":\"GlyphRenderer\"},{\"attributes\":{},\"id\":\"1944\",\"type\":\"Selection\"},{\"attributes\":{},\"id\":\"1940\",\"type\":\"Selection\"},{\"attributes\":{\"data\":{\"bottom\":{\"__ndarray__\":\"zczMzMxMT0DNzMzMzExJQM3MzMzMTEhAzczMzMxMTkDNzMzMzExHQM3MzMzMTE1AzczMzMxMSEDNzMzMzExOQM3MzMzMTE9AzczMzMxMSUDNzMzMzExOQM3MzMzMTEhAzczMzMxMR0DNzMzMzExNQM3MzMzMTEhAzczMzMxMTkA=\",\"dtype\":\"float64\",\"order\":\"little\",\"shape\":[16]},\"duration\":{\"__ndarray__\":\"AAAAAAAA0D8AAAAAAADQPwAAAAAAANA/AAAAAAAA0D8AAAAAAADQPwAAAAAAANA/AAAAAAAA0D8AAAAAAADQPwAAAAAAANA/AAAAAAAA0D8AAAAAAADQPwAAAAAAANA/AAAAAAAA0D8AAAAAAADQPwAAAAAAANA/AAAAAAAA0D8=\",\"dtype\":\"float64\",\"order\":\"little\",\"shape\":[16]},\"end_time\":{\"__ndarray__\":\"AAAAAAAACkAAAAAAAAAKQAAAAAAAAAxAAAAAAAAADEAAAAAAAAAOQAAAAAAAAA5AAAAAAAAAEEAAAAAAAAAQQAAAAAAAAB1AAAAAAAAAHUAAAAAAAAAeQAAAAAAAAB5AAAAAAAAAH0AAAAAAAAAfQAAAAAAAACBAAAAAAAAAIEA=\",\"dtype\":\"float64\",\"order\":\"little\",\"shape\":[16]},\"fill_alpha\":{\"__ndarray__\":\"AAAAAAAA8D8AAAAAAADwPwAAAAAAAPA/AAAAAAAA8D8AAAAAAADwPwAAAAAAAPA/AAAAAAAA8D8AAAAAAADwPwAAAAAAAPA/AAAAAAAA8D8AAAAAAADwPwAAAAAAAPA/AAAAAAAA8D8AAAAAAADwPwAAAAAAAPA/AAAAAAAA8D8=\",\"dtype\":\"float64\",\"order\":\"little\",\"shape\":[16]},\"index\":[0,1,2,3,4,5,6,7,8,9,10,11,12,13,14,15],\"instrument\":[0,0,0,0,0,0,0,0,0,0,0,0,0,0,0,0],\"pitch\":[63,51,49,61,47,59,49,61,63,51,61,49,47,59,49,61],\"program\":[61,61,61,61,61,61,61,61,61,61,61,61,61,61,61,61],\"start_time\":{\"__ndarray__\":\"AAAAAAAACEAAAAAAAAAIQAAAAAAAAApAAAAAAAAACkAAAAAAAAAMQAAAAAAAAAxAAAAAAAAADkAAAAAAAAAOQAAAAAAAABxAAAAAAAAAHEAAAAAAAAAdQAAAAAAAAB1AAAAAAAAAHkAAAAAAAAAeQAAAAAAAAB9AAAAAAAAAH0A=\",\"dtype\":\"float64\",\"order\":\"little\",\"shape\":[16]},\"top\":{\"__ndarray__\":\"MzMzMzOzT0AzMzMzM7NJQDMzMzMzs0hAMzMzMzOzTkAzMzMzM7NHQDMzMzMzs01AMzMzMzOzSEAzMzMzM7NOQDMzMzMzs09AMzMzMzOzSUAzMzMzM7NOQDMzMzMzs0hAMzMzMzOzR0AzMzMzM7NNQDMzMzMzs0hAMzMzMzOzTkA=\",\"dtype\":\"float64\",\"order\":\"little\",\"shape\":[16]},\"velocity\":[80,80,80,80,80,80,80,80,80,80,80,80,80,80,80,80]},\"selected\":{\"id\":\"1940\"},\"selection_policy\":{\"id\":\"1939\"}},\"id\":\"1911\",\"type\":\"ColumnDataSource\"},{\"attributes\":{\"tools\":[{\"id\":\"1896\"},{\"id\":\"1897\"},{\"id\":\"1898\"},{\"id\":\"1899\"},{\"id\":\"1900\"}]},\"id\":\"1902\",\"type\":\"Toolbar\"},{\"attributes\":{\"bottom\":{\"field\":\"bottom\"},\"fill_alpha\":{\"field\":\"fill_alpha\"},\"fill_color\":{\"value\":\"#f46d43\"},\"left\":{\"field\":\"start_time\"},\"right\":{\"field\":\"end_time\"},\"top\":{\"field\":\"top\"}},\"id\":\"1927\",\"type\":\"Quad\"},{\"attributes\":{\"bottom\":{\"field\":\"bottom\"},\"fill_alpha\":{\"value\":0.1},\"fill_color\":{\"value\":\"#d53e4f\"},\"hatch_alpha\":{\"value\":0.1},\"left\":{\"field\":\"start_time\"},\"line_alpha\":{\"value\":0.1},\"right\":{\"field\":\"end_time\"},\"top\":{\"field\":\"top\"}},\"id\":\"1914\",\"type\":\"Quad\"},{\"attributes\":{},\"id\":\"1886\",\"type\":\"LinearScale\"},{\"attributes\":{\"bottom\":{\"field\":\"bottom\"},\"fill_alpha\":{\"value\":0.2},\"fill_color\":{\"value\":\"#d53e4f\"},\"hatch_alpha\":{\"value\":0.2},\"left\":{\"field\":\"start_time\"},\"line_alpha\":{\"value\":0.2},\"right\":{\"field\":\"end_time\"},\"top\":{\"field\":\"top\"}},\"id\":\"1915\",\"type\":\"Quad\"},{\"attributes\":{},\"id\":\"1884\",\"type\":\"LinearScale\"},{\"attributes\":{\"coordinates\":null,\"data_source\":{\"id\":\"1918\"},\"glyph\":{\"id\":\"1920\"},\"group\":null,\"hover_glyph\":null,\"muted_glyph\":{\"id\":\"1922\"},\"nonselection_glyph\":{\"id\":\"1921\"},\"view\":{\"id\":\"1924\"}},\"id\":\"1923\",\"type\":\"GlyphRenderer\"}],\"root_ids\":[\"1879\"]},\"title\":\"Bokeh Application\",\"version\":\"2.4.3\"}};\n",
              "  const render_items = [{\"docid\":\"aa3ec47a-2940-4986-87cc-78e8daa4c69d\",\"root_ids\":[\"1879\"],\"roots\":{\"1879\":\"a3736fc9-725e-43e7-8a71-8f05803c46f1\"}}];\n",
              "  root.Bokeh.embed.embed_items_notebook(docs_json, render_items);\n",
              "  }\n",
              "  if (root.Bokeh !== undefined) {\n",
              "    embed_document(root);\n",
              "  } else {\n",
              "    let attempts = 0;\n",
              "    const timer = setInterval(function(root) {\n",
              "      if (root.Bokeh !== undefined) {\n",
              "        clearInterval(timer);\n",
              "        embed_document(root);\n",
              "      } else {\n",
              "        attempts++;\n",
              "        if (attempts > 100) {\n",
              "          clearInterval(timer);\n",
              "          console.log(\"Bokeh: ERROR: Unable to run BokehJS code because BokehJS library is missing\");\n",
              "        }\n",
              "      }\n",
              "    }, 10, root)\n",
              "  }\n",
              "})(window);"
            ],
            "application/vnd.bokehjs_exec.v0+json": ""
          },
          "metadata": {
            "application/vnd.bokehjs_exec.v0+json": {
              "id": "1879"
            }
          }
        },
        {
          "output_type": "display_data",
          "data": {
            "text/plain": [
              "<IPython.core.display.HTML object>"
            ],
            "text/html": [
              "<div id=\"id_7\"> </div>"
            ]
          },
          "metadata": {}
        }
      ],
      "source": [
        "# Encode the conditioning tokens.\n",
        "input_ids = tokenizer.encode(generated_sequence, return_tensors=\"pt\")\n",
        "#print(input_ids)\n",
        "\n",
        "# Generate more tokens.\n",
        "eos_token_id = tokenizer.encode(\"TRACK_END\")[0]\n",
        "temperature = 1.0\n",
        "generated_ids = model.generate(\n",
        "    input_ids,\n",
        "    max_length=2048,\n",
        "    do_sample=True,\n",
        "    temperature=temperature,\n",
        "    eos_token_id=eos_token_id,\n",
        ")\n",
        "generated_sequence = tokenizer.decode(generated_ids[0])\n",
        "print(generated_sequence)\n",
        "\n",
        "note_sequence = token_sequence_to_note_sequence(generated_sequence)\n",
        "\n",
        "synth = note_seq.fluidsynth\n",
        "note_seq.plot_sequence(note_sequence)\n",
        "note_seq.play_sequence(note_sequence, synth)"
      ]
    },
    {
      "cell_type": "markdown",
      "metadata": {
        "id": "d1x6HeF90kkO"
      },
      "source": [
        "# Thank you!"
      ]
    }
  ],
  "metadata": {
    "colab": {
      "provenance": [],
      "include_colab_link": true
    },
    "kernelspec": {
      "display_name": "Python 3 (ipykernel)",
      "language": "python",
      "name": "python3"
    },
    "language_info": {
      "codemirror_mode": {
        "name": "ipython",
        "version": 3
      },
      "file_extension": ".py",
      "mimetype": "text/x-python",
      "name": "python",
      "nbconvert_exporter": "python",
      "pygments_lexer": "ipython3",
      "version": "3.9.7"
    },
    "accelerator": "GPU",
    "gpuClass": "standard"
  },
  "nbformat": 4,
  "nbformat_minor": 0
}